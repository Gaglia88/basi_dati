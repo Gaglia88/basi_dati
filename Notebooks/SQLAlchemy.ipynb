{
 "cells": [
  {
   "cell_type": "markdown",
   "id": "0ccc4363",
   "metadata": {},
   "source": [
    "# SQLAlchemy\n",
    "[SQLAlchemy](https://www.sqlalchemy.org/) è una libreria di Python che consente di interfacciarsi con diversi database per recuperare dati da utilizzare all'interno di un'applicazione.\n",
    "\n",
    "Per interrogare un database abbiamo due modalità:\n",
    " * RAW Query\n",
    " * Object Relational Mapping\n",
    " \n",
    "Supponiamo di voler definire questo semplice schema:\n",
    "\n",
    "&nbsp;&nbsp;&nbsp;studente (<u>sid</u>, cf, nome, cognome)\\\n",
    "&nbsp;&nbsp;&nbsp;&nbsp;&nbsp;&nbsp; **AK**: cf\n",
    "\n",
    "&nbsp;&nbsp;&nbsp;corso (<u>cid</u>, nome)\n",
    "\n",
    "&nbsp;&nbsp;&nbsp;esame (<u>data, sid, cid</u>, voto)\\\n",
    "&nbsp;&nbsp;&nbsp;&nbsp;&nbsp;&nbsp; **FK**: sid **REFERENCES** studente\\\n",
    "&nbsp;&nbsp;&nbsp;&nbsp;&nbsp;&nbsp; **FK**: cid **REFERENCES** corso"
   ]
  },
  {
   "cell_type": "markdown",
   "id": "4340964f",
   "metadata": {},
   "source": [
    "Iniziamo importando la libreria di SQLAlchemy"
   ]
  },
  {
   "cell_type": "code",
   "execution_count": 3,
   "id": "6b0aa834",
   "metadata": {},
   "outputs": [],
   "source": [
    "import sqlalchemy"
   ]
  },
  {
   "cell_type": "markdown",
   "id": "6b4dab36",
   "metadata": {},
   "source": [
    "# Modalità RAW\n",
    "La modalità raw consente di eseguire istruzioni SQL pure, scrivendole direttamente.\n",
    "\n",
    "In SQLALchemy si utilizza la funzione [text](https://docs.sqlalchemy.org/en/14/core/sqlelement.html#sqlalchemy.sql.expression.text) per eseguire istruzioni SQL."
   ]
  },
  {
   "cell_type": "markdown",
   "id": "4db79a6a",
   "metadata": {},
   "source": [
    "## Creare il database e definire una connessione\n",
    "\n",
    "Utilizziamo PostgreSQL come DBMS.\n",
    "\n",
    "1. Aprire pgAdmin\n",
    "2. Creare un nuovo database denominato `test_raw`\n",
    "3. Si può usare l'utente di default `postgresql` oppure creare uno nuovo\n",
    "\n",
    "Una volta terminate le operazioni, possiamo creare la stringa di connessione al database"
   ]
  },
  {
   "cell_type": "code",
   "execution_count": 6,
   "id": "f56b66d8",
   "metadata": {},
   "outputs": [],
   "source": [
    "dbuser = \"user\"            # Nome utente\n",
    "dbpass = \"passwd\"          # Password\n",
    "dbname = \"test_raw\"        # Nome del database\n",
    "dbhost = \"127.0.0.1:5432\"  # Host del database\n",
    "\n",
    "# Definizione della connessione\n",
    "engine = sqlalchemy.create_engine(\"postgresql://\"+dbuser+\":\"+dbpass+\"@\"+dbhost+\"/\"+dbname)"
   ]
  },
  {
   "cell_type": "markdown",
   "id": "c10e10d2",
   "metadata": {},
   "source": [
    "## Creazione delle tabelle"
   ]
  },
  {
   "cell_type": "code",
   "execution_count": 7,
   "id": "18744d41",
   "metadata": {},
   "outputs": [
    {
     "data": {
      "text/plain": [
       "<sqlalchemy.engine.cursor.LegacyCursorResult at 0x2099a2c5128>"
      ]
     },
     "execution_count": 7,
     "metadata": {},
     "output_type": "execute_result"
    }
   ],
   "source": [
    "# Apre la connessione\n",
    "conn = engine.connect()\n",
    "\n",
    "# Esegue le istruzioni SQL: crea le tabelle\n",
    "conn.execute(sqlalchemy.text(\"\"\"\n",
    "    CREATE TABLE studente (\n",
    "        sid INT PRIMARY KEY,\n",
    "        cf CHAR(16) NOT NULL UNIQUE,\n",
    "        nome VARCHAR(255) NOT NULL,\n",
    "        cognome VARCHAR(255) NOT NULL\n",
    "    );\n",
    "    \n",
    "    CREATE TABLE corso (\n",
    "        cid INT PRIMARY KEY,\n",
    "        nome VARCHAR(255) NOT NULL\n",
    "    );\n",
    "    \n",
    "    CREATE TABLE esame (\n",
    "        data DATE NOT NULL,\n",
    "        sid INT NOT NULL REFERENCES studente(sid),\n",
    "        cid INT NOT NULL REFERENCES corso(cid),\n",
    "        voto INT NOT NULL,\n",
    "        PRIMARY KEY(data, sid, cid)\n",
    "    );\n",
    "\"\"\"))\n",
    "\n",
    "# Chiude la connessione\n",
    "conn.close()"
   ]
  },
  {
   "cell_type": "markdown",
   "id": "2d6bac4f",
   "metadata": {},
   "source": [
    "&Egrave; possibile verificare da pgAdmin se la creazione delle tabelle è andata a buon fine."
   ]
  },
  {
   "cell_type": "markdown",
   "id": "bbfc80dc",
   "metadata": {},
   "source": [
    "## Inserimento dei dati\n",
    "\n",
    "Inserimento dei dati: inseriamo alcuni record"
   ]
  },
  {
   "cell_type": "code",
   "execution_count": 9,
   "id": "a4e008eb",
   "metadata": {},
   "outputs": [],
   "source": [
    "# Apre la connessione\n",
    "conn = engine.connect()\n",
    "\n",
    "# Esegue le istruzioni SQL: crea le tabelle\n",
    "conn.execute(sqlalchemy.text(\"\"\"\n",
    "    INSERT INTO studente(sid, cf, nome, cognome) VALUES (1, '12345', 'Mario', 'Rossi');\n",
    "    INSERT INTO corso(cid, nome) VALUES (1, 'Basi di dati');\n",
    "    INSERT INTO esame(data, sid, cid, voto) VALUES ('06/06/2021', 1, 1, 25);\n",
    "\"\"\"))\n",
    "\n",
    "# Chiude la connessione\n",
    "conn.close()"
   ]
  },
  {
   "cell_type": "markdown",
   "id": "a20fe661",
   "metadata": {},
   "source": [
    "## Lettura dei dati\n",
    "Possiamo leggere i dati dal database:"
   ]
  },
  {
   "cell_type": "code",
   "execution_count": 15,
   "id": "79e82e7b",
   "metadata": {},
   "outputs": [
    {
     "name": "stdout",
     "output_type": "stream",
     "text": [
      "sid=1, cf=12345, nome=Mario, cognome=Rossi\n"
     ]
    }
   ],
   "source": [
    "# Apre la connessione\n",
    "conn = engine.connect()\n",
    "\n",
    "# E' possibile parametrizzare una query in questo modo\n",
    "results = conn.execute(sqlalchemy.text(\"SELECT * FROM studente WHERE nome = :nome\"), nome='Mario')\n",
    "\n",
    "# Chiude la connessione\n",
    "conn.close()\n",
    "\n",
    "# Per ogni record restituito mostra il contenuto\n",
    "for row in results:\n",
    "    # Ogni record è un dictionary a cui si può accedere per leggere il valore del campo\n",
    "    print(f\"sid={row['sid']}, cf={row['cf'].strip()}, nome={row['nome']}, cognome={row['cognome']}\")"
   ]
  },
  {
   "cell_type": "markdown",
   "id": "88e3a5b4",
   "metadata": {},
   "source": [
    "# Modalità Object Relational Mapping (ORM)\n",
    "L'ORM è una tecnica di programmazione che astrae il livello fisico del DBMS e rappresenta le tabelle sottoforma di classi, ogni record inserito in una tabella viene rappresentato come un oggetto.\n",
    "\n",
    "In questo modo è il software a gestire la creazione del database e non ci si deve preoccupare della portabilità se si cambia il DBMS."
   ]
  },
  {
   "cell_type": "code",
   "execution_count": 20,
   "id": "da32dcae",
   "metadata": {},
   "outputs": [],
   "source": [
    "from sqlalchemy import Column, ForeignKey, Integer, String, Date, PrimaryKeyConstraint, select\n",
    "from sqlalchemy.orm import declarative_base, relationship, Session"
   ]
  },
  {
   "cell_type": "markdown",
   "id": "a448f292",
   "metadata": {},
   "source": [
    "## Creare il database e definire una connessione\n",
    "\n",
    "Utilizziamo PostgreSQL come DBMS.\n",
    "\n",
    "1. Aprire pgAdmin\n",
    "2. Creare un nuovo database denominato `test_orm`\n",
    "3. Si può usare l'utente di default `postgresql` oppure creare uno nuovo\n",
    "\n",
    "Una volta terminate le operazioni, possiamo creare la stringa di connessione al database"
   ]
  },
  {
   "cell_type": "code",
   "execution_count": 30,
   "id": "c88e6fbb",
   "metadata": {},
   "outputs": [],
   "source": [
    "dbuser = \"user\"            # Nome utente\n",
    "dbpass = \"passwd\"          # Password\n",
    "dbname = \"test_orm\"        # Nome del database\n",
    "dbhost = \"127.0.0.1:5432\"  # Host del database\n",
    "\n",
    "# Definizione della connessione\n",
    "engine = sqlalchemy.create_engine(\"postgresql://\"+dbuser+\":\"+dbpass+\"@\"+dbhost+\"/\"+dbname)"
   ]
  },
  {
   "cell_type": "markdown",
   "id": "53b87fb6",
   "metadata": {},
   "source": [
    "## Creazione delle tabelle\n",
    "Innanzi tutto bisogna definire la classe base che SQLAlchemy usa per definire gli oggetti che rappresentano le tabelle"
   ]
  },
  {
   "cell_type": "code",
   "execution_count": 31,
   "id": "4c289f23",
   "metadata": {},
   "outputs": [],
   "source": [
    "Base = declarative_base()"
   ]
  },
  {
   "cell_type": "markdown",
   "id": "d98af11b",
   "metadata": {},
   "source": [
    "Ogni tabella deve essere definita come una classe.\n",
    "SQLAlchemy offre vari [tipi di dato](https://docs.sqlalchemy.org/en/14/core/type_basics.html) e la possibilità di esprimere tutti i [vincoli presenti in SQL](https://docs.sqlalchemy.org/en/14/core/constraints.html)."
   ]
  },
  {
   "cell_type": "code",
   "execution_count": 32,
   "id": "e80aa75c",
   "metadata": {},
   "outputs": [],
   "source": [
    "# Tabella Studente\n",
    "class Studente(Base):\n",
    "    __tablename__ = \"studente\"\n",
    "    sid = Column(Integer, primary_key=True)\n",
    "    # Definisce il vincolo di AK\n",
    "    cf = Column(String(16), nullable=False, unique=True)\n",
    "    nome = Column(String, nullable=False)\n",
    "    cognome = Column(String, nullable=False)\n",
    "    \n",
    "    def __repr__(self):\n",
    "        \"\"\"\n",
    "        Metodo utilizzato quando si vuole visualizzare un oggetto di tipo studente\n",
    "        \"\"\"\n",
    "        return f\"sid={self.sid}, cf={self.cf}, nome={self.nome}, cognome={self.cognome}\"\n",
    "\n",
    "class Corso(Base):\n",
    "    __tablename__ = \"corso\"\n",
    "    cid = Column(Integer, primary_key=True)\n",
    "    nome = Column(String, nullable=False)\n",
    "    \n",
    "    def __repr__(self):\n",
    "        return f\"cid={self.cid}, nome={self.nome}\"\n",
    "\n",
    "class Esame(Base):\n",
    "    __tablename__ = \"esame\"\n",
    "    data = Column(Date, nullable=False)\n",
    "    # Definisce anche il vincolo di FK\n",
    "    sid = Column(Integer, ForeignKey(\"studente.sid\"), nullable=False)\n",
    "    cid = Column(Integer, ForeignKey(\"corso.cid\"), nullable=False)\n",
    "    voto = Column(Integer, nullable=False)\n",
    "    \n",
    "    # Definise la primary key su più attributi\n",
    "    PrimaryKeyConstraint(data, sid, cid)\n",
    "    \n",
    "    def __repr__(self):\n",
    "        return f\"data={self.data}, sid={self.sid}, cid={self.cid}, voto={self.voto}\"\n",
    "    "
   ]
  },
  {
   "cell_type": "markdown",
   "id": "2b89d283",
   "metadata": {},
   "source": [
    "Una volta create le tabelle, queste devono essere scritte sul database eseguendo la seguente istruzione"
   ]
  },
  {
   "cell_type": "code",
   "execution_count": 33,
   "id": "a8cc5588",
   "metadata": {},
   "outputs": [],
   "source": [
    "Base.metadata.create_all(engine)"
   ]
  },
  {
   "cell_type": "markdown",
   "id": "cf83cc83",
   "metadata": {},
   "source": [
    "&Egrave; possibile verificare con pgAdmin la corretta creazione delle tabelle e dei vincoli."
   ]
  },
  {
   "cell_type": "markdown",
   "id": "c60faa51",
   "metadata": {},
   "source": [
    "## Inserimento dei dati\n",
    "\n",
    "Innanzi tutto bisogna stabilire una nuova sessione con il database"
   ]
  },
  {
   "cell_type": "code",
   "execution_count": 34,
   "id": "ec011217",
   "metadata": {},
   "outputs": [],
   "source": [
    "session = Session(engine)"
   ]
  },
  {
   "cell_type": "markdown",
   "id": "51169c4d",
   "metadata": {},
   "source": [
    "Poi si possono creare i record, ogni record è un'istanza della classe in cui deve essere inserito"
   ]
  },
  {
   "cell_type": "code",
   "execution_count": 35,
   "id": "d6d033bd",
   "metadata": {},
   "outputs": [],
   "source": [
    "s1 = Studente(\n",
    "    sid = 1,\n",
    "    cf = \"123456\",\n",
    "    nome = \"Mario\",\n",
    "    cognome = \"Rossi\"\n",
    ")\n",
    "c1 = Corso(\n",
    "    cid = 1,\n",
    "    nome = \"Basi di dati\"\n",
    ")\n",
    "e1 = Esame(\n",
    "    data = \"06/06/2021\",\n",
    "    sid = 1,\n",
    "    cid = 1,\n",
    "    voto = 25\n",
    ")"
   ]
  },
  {
   "cell_type": "markdown",
   "id": "de85e6f0",
   "metadata": {},
   "source": [
    "Per inserire un record bisogna aggiungerlo alla sessione corrente e poi chiamare l'istruzione `commit` per scrivere i dati sul database."
   ]
  },
  {
   "cell_type": "code",
   "execution_count": 36,
   "id": "59c44a58",
   "metadata": {},
   "outputs": [],
   "source": [
    "session.add_all([s1, c1])\n",
    "session.commit()\n",
    "\n",
    "session.add(e1)\n",
    "session.commit()"
   ]
  },
  {
   "cell_type": "markdown",
   "id": "19e0b48b",
   "metadata": {},
   "source": [
    "## Interrogare il database\n",
    "Le query devono essere composte con l'istruzione `select`, SQLAlchemy offre vari [metodi](https://docs.sqlalchemy.org/en/14/core/selectable.html) per creare query avanzate"
   ]
  },
  {
   "cell_type": "code",
   "execution_count": 37,
   "id": "e15b75fa",
   "metadata": {},
   "outputs": [],
   "source": [
    "query = select(Studente).where(Studente.cognome == \"Rossi\")"
   ]
  },
  {
   "cell_type": "markdown",
   "id": "ff5fbacf",
   "metadata": {},
   "source": [
    "Il risultato di una query è un elenco di oggetti della classe che definisce la tabella"
   ]
  },
  {
   "cell_type": "code",
   "execution_count": 38,
   "id": "3dd3afce",
   "metadata": {},
   "outputs": [
    {
     "name": "stdout",
     "output_type": "stream",
     "text": [
      "sid=1, cf=123456, nome=Mario, cognome=Rossi\n"
     ]
    }
   ],
   "source": [
    "for studente in session.execute(query):\n",
    "    print(studente[0])"
   ]
  },
  {
   "cell_type": "markdown",
   "id": "bfa615a7",
   "metadata": {},
   "source": [
    "Esempio di query con JOIN che restituisce più oggetti, ogni record è un oggetto della classe contenuta nella select"
   ]
  },
  {
   "cell_type": "code",
   "execution_count": 39,
   "id": "71bb4577",
   "metadata": {},
   "outputs": [],
   "source": [
    "query = select(Studente, Esame, Corso)\\\n",
    "       .join_from(Studente, Esame, Studente.sid == Esame.sid)\\\n",
    "       .join_from(Esame, Corso, Esame.cid == Corso.cid)"
   ]
  },
  {
   "cell_type": "code",
   "execution_count": 41,
   "id": "dfa0cdf6",
   "metadata": {},
   "outputs": [
    {
     "name": "stdout",
     "output_type": "stream",
     "text": [
      "Mario Rossi\n",
      "Basi di dati\n",
      "2021-06-06 - 25\n"
     ]
    }
   ],
   "source": [
    "for row in session.execute(query):\n",
    "    print(f\"{row[0].nome} {row[0].cognome}\")\n",
    "    print(f\"{row[2].nome}\")\n",
    "    print(f\"{row[1].data} - {row[1].voto}\")"
   ]
  }
 ],
 "metadata": {
  "kernelspec": {
   "display_name": "Python 3",
   "language": "python",
   "name": "python3"
  },
  "language_info": {
   "codemirror_mode": {
    "name": "ipython",
    "version": 3
   },
   "file_extension": ".py",
   "mimetype": "text/x-python",
   "name": "python",
   "nbconvert_exporter": "python",
   "pygments_lexer": "ipython3",
   "version": "3.6.13"
  }
 },
 "nbformat": 4,
 "nbformat_minor": 5
}
