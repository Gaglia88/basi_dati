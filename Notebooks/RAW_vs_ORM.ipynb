{
 "cells": [
  {
   "cell_type": "markdown",
   "id": "688ea711",
   "metadata": {
    "id": "688ea711"
   },
   "source": [
    "# Collegarsi ad un database con Python\n",
    "\n",
    "In questo notebook vedremo come è possibile collegarsi ad un database utilizzando Python.\n",
    "\n",
    "Utilizzeremo come database [SQLite](https://sqlite.org/index.html), una libreria che consente di creare un database autocontenuto in un singolo file interrogabile con linguaggio SQL.\n",
    "\n",
    "Per interfacciarci al database utilizzeremo SQLAlchemy, una delle librerie più usate in Python per interrogare i database.\n",
    "\n",
    "Per eseguire una cella si può cliccare su Run presente in alto, oppure tasto shift + invio"
   ]
  },
  {
   "cell_type": "markdown",
   "id": "0ccc4363",
   "metadata": {
    "id": "0ccc4363"
   },
   "source": [
    "### SQLAlchemy\n",
    "[SQLAlchemy](https://www.sqlalchemy.org/) è una libreria di Python che consente di interfacciarsi con diversi database per recuperare dati da utilizzare all'interno di un'applicazione.\n",
    "\n",
    "Per interrogare un database sono possibili due modalità (non solo per questa libreria, ma in generale con anche altri linguaggi):\n",
    " * **RAW Query**: si crea la base di dati manualmente e scrivono le interrogazioni in linguaggio SQL\n",
    " * **Object Relational Mapping**: si crea la base di dati sottoforma di una collezione di oggetti e ci si interfaccia adessa interagendo con gli oggetti, tutta la gestione è demandata alla libreria che si sta utilizzando.\n",
    "\n",
    "\n",
    "Vediamo con un esempio come funzionano i due metodi.\n",
    "\n"
   ]
  },
  {
   "cell_type": "markdown",
   "id": "f68e4db7",
   "metadata": {
    "id": "f68e4db7"
   },
   "source": [
    "Supponiamo di voler definire questo semplice schema:\n",
    "\n",
    "&nbsp;&nbsp;&nbsp;studente (<u>sid</u>, cf, nome, cognome)\\\n",
    "&nbsp;&nbsp;&nbsp;&nbsp;&nbsp;&nbsp; **AK**: cf\n",
    "\n",
    "&nbsp;&nbsp;&nbsp;corso (<u>cid</u>, nome)\n",
    "\n",
    "&nbsp;&nbsp;&nbsp;esame (<u>data, sid, cid</u>, voto)\\\n",
    "&nbsp;&nbsp;&nbsp;&nbsp;&nbsp;&nbsp; **FK**: sid **REFERENCES** studente\\\n",
    "&nbsp;&nbsp;&nbsp;&nbsp;&nbsp;&nbsp; **FK**: cid **REFERENCES** corso"
   ]
  },
  {
   "cell_type": "markdown",
   "id": "4340964f",
   "metadata": {
    "id": "4340964f"
   },
   "source": [
    "Iniziamo importando la librerie di SQLAlchemy.\n",
    "\n",
    "Per visualizzare i risultati utilizzeremo Pandas, una libreria che consente di gestire dati tabellari (dataframe)."
   ]
  },
  {
   "cell_type": "code",
   "execution_count": null,
   "id": "6b0aa834",
   "metadata": {
    "id": "6b0aa834"
   },
   "outputs": [],
   "source": [
    "import sqlalchemy\n",
    "from sqlalchemy import text\n",
    "import pandas as pd\n",
    "from IPython.display import display\n",
    "import os"
   ]
  },
  {
   "cell_type": "markdown",
   "id": "6b4dab36",
   "metadata": {
    "id": "6b4dab36"
   },
   "source": [
    "# Modalità RAW\n",
    "La modalità raw consente di eseguire istruzioni SQL pure, scrivendole direttamente.\n",
    "\n",
    "In SQLAlchemy si utilizza la funzione [text](https://docs.sqlalchemy.org/en/14/core/sqlelement.html#sqlalchemy.sql.expression.text) per eseguire istruzioni SQL."
   ]
  },
  {
   "cell_type": "markdown",
   "id": "4db79a6a",
   "metadata": {
    "id": "4db79a6a"
   },
   "source": [
    "## Definire una connessione\n",
    "\n",
    "Innanzi tutto creiamo un nuovo database chiamato test.db\n",
    "\n",
    "Il database verrà creato nella stessa directory in cui è in esecuzione questo notebook"
   ]
  },
  {
   "cell_type": "code",
   "execution_count": null,
   "id": "f56b66d8",
   "metadata": {
    "id": "f56b66d8"
   },
   "outputs": [],
   "source": [
    "# Constrolla se il database esiste, e se esiste lo elimina\n",
    "if os.path.isfile('raw_db.db'):\n",
    "  os.remove('raw_db.db')\n",
    "\n",
    "# Crea il database\n",
    "engine = sqlalchemy.create_engine('sqlite:///raw_db.db', echo=False)\n",
    "\n",
    "# Apre la connessioneal database\n",
    "conn = engine.connect()"
   ]
  },
  {
   "cell_type": "markdown",
   "id": "e9af9c32",
   "metadata": {
    "id": "e9af9c32"
   },
   "source": [
    "SQL Alchemy consente la connessione a diversi DBMS, ad esempio una connessione a PostgreSQL può essere impostata nel seguente modo."
   ]
  },
  {
   "cell_type": "markdown",
   "id": "5T7aU9JqF5W3",
   "metadata": {
    "id": "5T7aU9JqF5W3"
   },
   "source": [
    "```\n",
    "dbuser = \"user\"          # Nome utente\n",
    "dbpass = \"passwd\"          # Password\n",
    "dbname = \"test_raw\"        # Nome del database\n",
    "dbhost = \"127.0.0.1:5432\"  # Host del DBMS e porta a cui risponde\n",
    "\n",
    "# Definizione della connessione\n",
    "engine = sqlalchemy.create_engine(\"postgresql://\"+dbuser+\":\"+dbpass+\"@\"+dbhost+\"/\"+dbname)\n",
    "```\n",
    "\n"
   ]
  },
  {
   "cell_type": "markdown",
   "id": "c10e10d2",
   "metadata": {
    "id": "c10e10d2"
   },
   "source": [
    "## Creazione delle tabelle"
   ]
  },
  {
   "cell_type": "code",
   "execution_count": null,
   "id": "18744d41",
   "metadata": {
    "colab": {
     "base_uri": "https://localhost:8080/"
    },
    "id": "18744d41",
    "outputId": "95ec23e0-4d0c-44b8-cdf0-83c507c7a64e"
   },
   "outputs": [],
   "source": [
    "# Esegue le istruzioni SQL: crea le tabelle\n",
    "conn.execute(text(\"\"\"\n",
    "    CREATE TABLE studente (\n",
    "        sid INT PRIMARY KEY,\n",
    "        cf CHAR(16) NOT NULL UNIQUE,\n",
    "        nome VARCHAR(255) NOT NULL,\n",
    "        cognome VARCHAR(255) NOT NULL\n",
    "    );\"\"\"))\n",
    "\n",
    "conn.execute(text(\"\"\"\n",
    "    CREATE TABLE corso (\n",
    "        cid INT PRIMARY KEY,\n",
    "        nome VARCHAR(255) NOT NULL\n",
    "    );\"\"\"))\n",
    "\n",
    "conn.execute(text(\"\"\"\n",
    "    CREATE TABLE esame (\n",
    "        data DATE NOT NULL,\n",
    "        sid INT NOT NULL REFERENCES studente(sid),\n",
    "        cid INT NOT NULL REFERENCES corso(cid),\n",
    "        voto INT NOT NULL,\n",
    "        PRIMARY KEY(data, sid, cid)\n",
    "    );\n",
    "\"\"\"))"
   ]
  },
  {
   "cell_type": "markdown",
   "id": "bbfc80dc",
   "metadata": {
    "id": "bbfc80dc"
   },
   "source": [
    "## Inserimento dei dati\n",
    "\n",
    "Inserimento dei dati: inseriamo alcuni record"
   ]
  },
  {
   "cell_type": "code",
   "execution_count": null,
   "id": "a4e008eb",
   "metadata": {
    "id": "a4e008eb"
   },
   "outputs": [],
   "source": [
    "# Apre la connessione\n",
    "conn = engine.connect()\n",
    "\n",
    "# Esegue le istruzioni SQL: crea le tabelle\n",
    "conn.execute(text(\"\"\"INSERT INTO studente(sid, cf, nome, cognome) VALUES (1, '12345', 'Mario', 'Rossi');\"\"\"))\n",
    "conn.execute(text(\"\"\"INSERT INTO corso(cid, nome) VALUES (1, 'Basi di dati');\"\"\"))\n",
    "conn.execute(text(\"\"\"INSERT INTO esame(data, sid, cid, voto) VALUES ('06/06/2021', 1, 1, 25);\"\"\"))\n",
    "conn.commit()\n",
    "\n",
    "# Chiude la connessione\n",
    "conn.close()"
   ]
  },
  {
   "cell_type": "markdown",
   "id": "a20fe661",
   "metadata": {
    "id": "a20fe661"
   },
   "source": [
    "## Lettura dei dati\n",
    "Possiamo leggere i dati dal database:"
   ]
  },
  {
   "cell_type": "code",
   "execution_count": null,
   "id": "79e82e7b",
   "metadata": {
    "colab": {
     "base_uri": "https://localhost:8080/",
     "height": 81
    },
    "id": "79e82e7b",
    "outputId": "03427aa8-ca84-4c5c-f017-0c02222e75f6"
   },
   "outputs": [],
   "source": [
    "# Apre la connessione\n",
    "conn = engine.connect()\n",
    "\n",
    "# E' possibile parametrizzare una query in questo modo\n",
    "t = text(\"SELECT * FROM studente WHERE nome=:nome\")\n",
    "results = conn.execute(t, {\"nome\":'Mario'})\n",
    "\n",
    "# Leggo i risultati\n",
    "df = pd.DataFrame(results)\n",
    "\n",
    "# Chiude la connessione\n",
    "conn.close()\n",
    "\n",
    "df"
   ]
  },
  {
   "cell_type": "markdown",
   "id": "88e3a5b4",
   "metadata": {
    "id": "88e3a5b4"
   },
   "source": [
    "# Modalità Object Relational Mapping (ORM)\n",
    "L'ORM è una tecnica di programmazione che astrae il livello fisico del DBMS e rappresenta le tabelle sottoforma di classi, ogni record inserito in una tabella viene rappresentato come un oggetto.\n",
    "\n",
    "In questo modo è il software a gestire la creazione del database e non ci si deve preoccupare della portabilità se si cambia il DBMS."
   ]
  },
  {
   "cell_type": "code",
   "execution_count": null,
   "id": "da32dcae",
   "metadata": {
    "id": "da32dcae"
   },
   "outputs": [],
   "source": [
    "from sqlalchemy import Column, ForeignKey, Integer, String, Date, PrimaryKeyConstraint, select\n",
    "from sqlalchemy.orm import declarative_base, relationship, Session"
   ]
  },
  {
   "cell_type": "markdown",
   "id": "a448f292",
   "metadata": {
    "id": "a448f292"
   },
   "source": [
    "## Creare il database e definire una connessione\n",
    "\n",
    "Crea il database e crea la connessione"
   ]
  },
  {
   "cell_type": "code",
   "execution_count": null,
   "id": "31c642a0",
   "metadata": {
    "id": "31c642a0"
   },
   "outputs": [],
   "source": [
    "# Constrolla se il database esiste, e se esiste lo elimina\n",
    "if os.path.isfile('test_orm.db'):\n",
    "  os.remove('test_orm.db')\n",
    "\n",
    "# Crea il database\n",
    "engine = sqlalchemy.create_engine('sqlite:///test_orm.db', echo=False)\n",
    "\n",
    "# Apre la connessioneal database\n",
    "conn = engine.connect()"
   ]
  },
  {
   "cell_type": "markdown",
   "id": "53b87fb6",
   "metadata": {
    "id": "53b87fb6"
   },
   "source": [
    "## Creazione delle tabelle\n",
    "Innanzi tutto bisogna definire la classe base che SQLAlchemy usa per definire gli oggetti che rappresentano le tabelle"
   ]
  },
  {
   "cell_type": "code",
   "execution_count": null,
   "id": "4c289f23",
   "metadata": {
    "id": "4c289f23"
   },
   "outputs": [],
   "source": [
    "Base = declarative_base()"
   ]
  },
  {
   "cell_type": "markdown",
   "id": "d98af11b",
   "metadata": {
    "id": "d98af11b"
   },
   "source": [
    "Ogni tabella deve essere definita come una classe.\n",
    "SQLAlchemy offre vari [tipi di dato](https://docs.sqlalchemy.org/en/14/core/type_basics.html) e la possibilità di esprimere tutti i [vincoli presenti in SQL](https://docs.sqlalchemy.org/en/14/core/constraints.html)."
   ]
  },
  {
   "cell_type": "code",
   "execution_count": null,
   "id": "e80aa75c",
   "metadata": {
    "id": "e80aa75c"
   },
   "outputs": [],
   "source": [
    "# Tabella Studente\n",
    "class Studente(Base):\n",
    "    __tablename__ = \"studente\"\n",
    "    sid = Column(Integer, primary_key=True)\n",
    "    # Definisce il vincolo di AK\n",
    "    cf = Column(String(16), nullable=False, unique=True)\n",
    "    nome = Column(String, nullable=False)\n",
    "    cognome = Column(String, nullable=False)\n",
    "\n",
    "    def __repr__(self):\n",
    "        \"\"\"\n",
    "        Metodo utilizzato quando si vuole visualizzare un oggetto di tipo studente\n",
    "        \"\"\"\n",
    "        return f\"sid={self.sid}, cf={self.cf}, nome={self.nome}, cognome={self.cognome}\"\n",
    "\n",
    "class Corso(Base):\n",
    "    __tablename__ = \"corso\"\n",
    "    cid = Column(Integer, primary_key=True)\n",
    "    nome = Column(String, nullable=False)\n",
    "\n",
    "    def __repr__(self):\n",
    "        return f\"cid={self.cid}, nome={self.nome}\"\n",
    "\n",
    "class Esame(Base):\n",
    "    __tablename__ = \"esame\"\n",
    "    data = Column(Date, nullable=False)\n",
    "    # Definisce anche il vincolo di FK\n",
    "    sid = Column(Integer, ForeignKey(\"studente.sid\"), nullable=False)\n",
    "    cid = Column(Integer, ForeignKey(\"corso.cid\"), nullable=False)\n",
    "    voto = Column(Integer, nullable=False)\n",
    "\n",
    "    # Definise la primary key su più attributi\n",
    "    PrimaryKeyConstraint(data, sid, cid)\n",
    "\n",
    "    def __repr__(self):\n",
    "        return f\"data={self.data}, sid={self.sid}, cid={self.cid}, voto={self.voto}\"\n"
   ]
  },
  {
   "cell_type": "markdown",
   "id": "2b89d283",
   "metadata": {
    "id": "2b89d283"
   },
   "source": [
    "Una volta create le tabelle, queste devono essere scritte sul database eseguendo la seguente istruzione"
   ]
  },
  {
   "cell_type": "code",
   "execution_count": null,
   "id": "a8cc5588",
   "metadata": {
    "id": "a8cc5588"
   },
   "outputs": [],
   "source": [
    "Base.metadata.create_all(engine)"
   ]
  },
  {
   "cell_type": "markdown",
   "id": "c60faa51",
   "metadata": {
    "id": "c60faa51"
   },
   "source": [
    "## Inserimento dei dati\n",
    "\n",
    "Innanzi tutto bisogna stabilire una nuova sessione con il database"
   ]
  },
  {
   "cell_type": "code",
   "execution_count": null,
   "id": "ec011217",
   "metadata": {
    "id": "ec011217"
   },
   "outputs": [],
   "source": [
    "session = Session(engine)"
   ]
  },
  {
   "cell_type": "markdown",
   "id": "51169c4d",
   "metadata": {
    "id": "51169c4d"
   },
   "source": [
    "Poi si possono creare i record, ogni record è un'istanza della classe in cui deve essere inserito"
   ]
  },
  {
   "cell_type": "code",
   "execution_count": null,
   "id": "d6d033bd",
   "metadata": {
    "id": "d6d033bd"
   },
   "outputs": [],
   "source": [
    "from datetime import datetime\n",
    "\n",
    "s1 = Studente(\n",
    "    sid = 1,\n",
    "    cf = \"123456\",\n",
    "    nome = \"Mario\",\n",
    "    cognome = \"Rossi\"\n",
    ")\n",
    "c1 = Corso(\n",
    "    cid = 1,\n",
    "    nome = \"Basi di dati\"\n",
    ")\n",
    "e1 = Esame(\n",
    "    data = datetime.strptime(\"06/06/2021\", '%d/%m/%Y'),\n",
    "    sid = 1,\n",
    "    cid = 1,\n",
    "    voto = 25\n",
    ")"
   ]
  },
  {
   "cell_type": "markdown",
   "id": "de85e6f0",
   "metadata": {
    "id": "de85e6f0"
   },
   "source": [
    "Per inserire un record bisogna aggiungerlo alla sessione corrente e poi chiamare l'istruzione `commit` per scrivere i dati sul database."
   ]
  },
  {
   "cell_type": "code",
   "execution_count": null,
   "id": "59c44a58",
   "metadata": {
    "id": "59c44a58"
   },
   "outputs": [],
   "source": [
    "session.add_all([s1, c1])\n",
    "session.commit()\n",
    "\n",
    "session.add(e1)\n",
    "session.commit()"
   ]
  },
  {
   "cell_type": "markdown",
   "id": "19e0b48b",
   "metadata": {
    "id": "19e0b48b"
   },
   "source": [
    "## Interrogare il database\n",
    "Le query devono essere composte con l'istruzione `select`, SQLAlchemy offre vari [metodi](https://docs.sqlalchemy.org/en/14/core/selectable.html) per creare query avanzate"
   ]
  },
  {
   "cell_type": "code",
   "execution_count": null,
   "id": "e15b75fa",
   "metadata": {
    "id": "e15b75fa"
   },
   "outputs": [],
   "source": [
    "query = select(Studente).where(Studente.cognome == \"Rossi\")"
   ]
  },
  {
   "cell_type": "markdown",
   "id": "ff5fbacf",
   "metadata": {
    "id": "ff5fbacf"
   },
   "source": [
    "Il risultato di una query è un elenco di oggetti della classe che definisce la tabella"
   ]
  },
  {
   "cell_type": "code",
   "execution_count": null,
   "id": "3dd3afce",
   "metadata": {
    "colab": {
     "base_uri": "https://localhost:8080/"
    },
    "id": "3dd3afce",
    "outputId": "b53806f3-d6ec-4458-96f5-fc9c069eee73"
   },
   "outputs": [],
   "source": [
    "for studente in session.execute(query):\n",
    "    print(studente[0])"
   ]
  },
  {
   "cell_type": "markdown",
   "id": "bfa615a7",
   "metadata": {
    "id": "bfa615a7"
   },
   "source": [
    "Esempio di query con JOIN che restituisce più oggetti, ogni record è un oggetto della classe contenuta nella select"
   ]
  },
  {
   "cell_type": "code",
   "execution_count": null,
   "id": "71bb4577",
   "metadata": {
    "id": "71bb4577"
   },
   "outputs": [],
   "source": [
    "query = select(Studente, Esame, Corso)\\\n",
    "       .join_from(Studente, Esame, Studente.sid == Esame.sid)\\\n",
    "       .join_from(Esame, Corso, Esame.cid == Corso.cid)"
   ]
  },
  {
   "cell_type": "code",
   "execution_count": null,
   "id": "dfa0cdf6",
   "metadata": {
    "colab": {
     "base_uri": "https://localhost:8080/"
    },
    "id": "dfa0cdf6",
    "outputId": "08ec64fd-2604-4122-d316-aeda54812490"
   },
   "outputs": [],
   "source": [
    "for row in session.execute(query):\n",
    "    print(f\"{row[0].nome} {row[0].cognome}\")\n",
    "    print(f\"{row[2].nome}\")\n",
    "    print(f\"{row[1].data} - {row[1].voto}\")"
   ]
  },
  {
   "cell_type": "markdown",
   "id": "abfb4b3b",
   "metadata": {
    "id": "abfb4b3b"
   },
   "source": [
    "\n",
    "#RAW o ORM?\n",
    "### Vantaggi di utilizzare un sistema ORM\n",
    "\n",
    "* **Velocizza lo sviluppo e ne riduce i costi**: non è necessario progettare il database e tutte le funzioni per convertire il risultato di una query in un formato utilizzabile dall'applicazione;\n",
    "* **Supera le differenze tra i vari vendor**: il motore ORM sa come scrivere query specifiche per ogni DBMS e quindi non bisogna preoccuparsene;\n",
    "* **Protezione**: prevede controlli sugli input per prevenire l'SQL injection;\n",
    "* **Funzioni avanzate**: può fornire facilmente funzioni avanzate come supporto per transazioni, etc.\n",
    "\n",
    "### Svantaggi\n",
    "\n",
    "* **Complessità**: il sistema che traduce le query è molto complesso, quindi risulta essere inefficiente rispetto a un sistema di interrogazione diretta del database;\n",
    "* **Difficoltà nel debug**: non è facile eseguire il debug perché non si riesce a vedere cosa fa internamente il sistema ORM e come genera le query;\n",
    "* **Apprendimento lento**: uno sviluppatore deve studiare ed imparare ad utilizzare il sistema ORM anche se conosce già l'SQL;\n",
    "* **Non si può fare tutto**: query particolarmente complesse non si riescono a fare con ORM e bisogna ricorrere alla modalità RAW.\n",
    "\n"
   ]
  }
 ],
 "metadata": {
  "colab": {
   "provenance": []
  },
  "kernelspec": {
   "display_name": "Python 3 (ipykernel)",
   "language": "python",
   "name": "python3"
  },
  "language_info": {
   "codemirror_mode": {
    "name": "ipython",
    "version": 3
   },
   "file_extension": ".py",
   "mimetype": "text/x-python",
   "name": "python",
   "nbconvert_exporter": "python",
   "pygments_lexer": "ipython3",
   "version": "3.9.12"
  }
 },
 "nbformat": 4,
 "nbformat_minor": 5
}
